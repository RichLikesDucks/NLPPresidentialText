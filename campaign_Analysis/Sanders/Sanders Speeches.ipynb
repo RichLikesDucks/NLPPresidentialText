{
 "cells": [
  {
   "cell_type": "code",
   "execution_count": 108,
   "metadata": {
    "collapsed": true
   },
   "outputs": [],
   "source": [
    "import csv\n",
    "import numpy as np\n",
    "import pandas as pd\n",
    "import nltk\n",
    "import sys\n",
    "import string\n",
    "import pprint \n",
    "from textblob import TextBlob as tb\n",
    "from nltk.corpus import stopwords\n",
    "import matplotlib.pyplot as plt\n",
    "%matplotlib inline \n",
    "\n",
    "\n",
    "\n",
    "def content_fraction(text):\n",
    "    stopwords = nltk.corpus.stopwords.words('english')\n",
    "    content = [w for w in text if w.lower() not in stopwords]\n",
    "    return (float(len(content))/ float(len(text)))\n",
    "\n",
    "\n",
    "    "
   ]
  },
  {
   "cell_type": "code",
   "execution_count": 119,
   "metadata": {
    "collapsed": false
   },
   "outputs": [],
   "source": [
    "f=open('Sanders_All.txt','rU')\n",
    "raw=f.read()\n",
    "tokens = nltk.word_tokenize(raw)\n",
    "all_text = nltk.Text(tokens)\n",
    "\n",
    "#sanders_punc = [word.strip(string.punctuation) for word in str(trump_text).split(\" \")]\n"
   ]
  },
  {
   "cell_type": "code",
   "execution_count": 110,
   "metadata": {
    "collapsed": false
   },
   "outputs": [
    {
     "data": {
      "text/plain": [
       "3311.0"
      ]
     },
     "execution_count": 110,
     "metadata": {},
     "output_type": "execute_result"
    }
   ],
   "source": [
    "float(all_text.count('.'))"
   ]
  },
  {
   "cell_type": "code",
   "execution_count": 111,
   "metadata": {
    "collapsed": false
   },
   "outputs": [
    {
     "data": {
      "text/plain": [
       "24.596194503171247"
      ]
     },
     "execution_count": 111,
     "metadata": {},
     "output_type": "execute_result"
    }
   ],
   "source": [
    "periods = float(all_text.count('.'))\n",
    "total = float(len(all_text))\n",
    "print ('words per sentence: %.2f ' %(total/periods))\n",
    "total/periods"
   ]
  },
  {
   "cell_type": "code",
   "execution_count": 112,
   "metadata": {
    "collapsed": false
   },
   "outputs": [
    {
     "data": {
      "text/plain": [
       "81438"
      ]
     },
     "execution_count": 112,
     "metadata": {},
     "output_type": "execute_result"
    }
   ],
   "source": [
    "len(all_text)"
   ]
  },
  {
   "cell_type": "code",
   "execution_count": 113,
   "metadata": {
    "collapsed": false
   },
   "outputs": [
    {
     "data": {
      "text/plain": [
       "0.5585598860482821"
      ]
     },
     "execution_count": 113,
     "metadata": {},
     "output_type": "execute_result"
    }
   ],
   "source": [
    "content_fraction(all_text)"
   ]
  },
  {
   "cell_type": "code",
   "execution_count": 114,
   "metadata": {
    "collapsed": false
   },
   "outputs": [
    {
     "data": {
      "text/plain": [
       "81438"
      ]
     },
     "execution_count": 114,
     "metadata": {},
     "output_type": "execute_result"
    }
   ],
   "source": [
    "#sanders_speech = ' '.join(all_text)\n",
    "#len(sanders_speech)\n",
    "len(all_text)"
   ]
  },
  {
   "cell_type": "code",
   "execution_count": 115,
   "metadata": {
    "collapsed": false
   },
   "outputs": [
    {
     "data": {
      "text/plain": [
       "48813"
      ]
     },
     "execution_count": 115,
     "metadata": {},
     "output_type": "execute_result"
    }
   ],
   "source": [
    "stopset = (stopwords.words('english') + #list(string.punctuation) + \n",
    "           [\"[applause]\",\"[laughter]\",\"[boos]\",\"\\xe2\\x80\\x94\"])\n",
    "sanders_clean = [word for word in all_text if word not in stopset]\n",
    "\n",
    "len(sanders_clean)\n"
   ]
  },
  {
   "cell_type": "code",
   "execution_count": 116,
   "metadata": {
    "collapsed": false
   },
   "outputs": [
    {
     "data": {
      "text/plain": [
       "[(',', 3657),\n",
       " ('.', 3311),\n",
       " ('I', 817),\n",
       " ('people', 616),\n",
       " ('[', 505),\n",
       " (']', 505),\n",
       " ('And', 481),\n",
       " ('applause', 449),\n",
       " ('country', 447),\n",
       " (\"'s\", 302),\n",
       " ('We', 299),\n",
       " ('--', 276),\n",
       " ('going', 219),\n",
       " ('need', 213),\n",
       " ('America', 210),\n",
       " ('campaign', 196),\n",
       " ('It', 193),\n",
       " ('one', 192),\n",
       " ('percent', 186),\n",
       " ('know', 182),\n",
       " ('$', 176),\n",
       " (\"n't\", 170),\n",
       " ('The', 170),\n",
       " ('American', 165),\n",
       " ('must', 164),\n",
       " ('That', 163),\n",
       " ('time', 152),\n",
       " ('working', 149),\n",
       " ('political', 144),\n",
       " ('?', 143),\n",
       " ('world', 141),\n",
       " ('Street', 140),\n",
       " ('Wall', 138),\n",
       " ('But', 137),\n",
       " ('millions', 136),\n",
       " ('United', 136),\n",
       " ('right', 133),\n",
       " ('today', 133),\n",
       " ('want', 132),\n",
       " ('years', 130),\n",
       " ('get', 129),\n",
       " ('us', 129),\n",
       " ('system', 129),\n",
       " (\"'re\", 127),\n",
       " ('jobs', 126),\n",
       " ('every', 119),\n",
       " ('make', 119),\n",
       " ('health', 119),\n",
       " ('Americans', 119),\n",
       " ('economy', 117)]"
      ]
     },
     "execution_count": 116,
     "metadata": {},
     "output_type": "execute_result"
    }
   ],
   "source": [
    "from nltk import FreqDist\n",
    "trump_fdist = FreqDist(sanders_clean)\n",
    "trump_fdist.most_common(50)"
   ]
  },
  {
   "cell_type": "code",
   "execution_count": 118,
   "metadata": {
    "collapsed": false
   },
   "outputs": [],
   "source": [
    "col = all_text.collocations()\n",
    "col"
   ]
  },
  {
   "cell_type": "code",
   "execution_count": null,
   "metadata": {
    "collapsed": true
   },
   "outputs": [],
   "source": []
  }
 ],
 "metadata": {
  "anaconda-cloud": {},
  "kernelspec": {
   "display_name": "Python [default]",
   "language": "python",
   "name": "python2"
  },
  "language_info": {
   "codemirror_mode": {
    "name": "ipython",
    "version": 2
   },
   "file_extension": ".py",
   "mimetype": "text/x-python",
   "name": "python",
   "nbconvert_exporter": "python",
   "pygments_lexer": "ipython2",
   "version": "2.7.12"
  }
 },
 "nbformat": 4,
 "nbformat_minor": 1
}
